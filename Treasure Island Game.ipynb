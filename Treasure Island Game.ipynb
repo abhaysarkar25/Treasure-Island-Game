{
 "cells": [
  {
   "cell_type": "markdown",
   "metadata": {},
   "source": [
    "\n",
    "\n",
    "## **Treasure Island Game - Python** \n",
    "\n",
    "![See the source image](https://www.boardgamequest.com/wp-content/uploads/2019/02/Treasure-Island.jpg)\n",
    "\n",
    "\n",
    "\n",
    "\n",
    "\n",
    "![feedback-vector-concept-rank-level-satisfaction-rating-form-emotions-smileys-emoji-user-experience-review-consumer-174849252.jpg (1600×978)](https://thumbs.dreamstime.com/z/feedback-vector-concept-rank-level-satisfaction-rating-form-emotions-smileys-emoji-user-experience-review-consumer-174849252.jpg)\n",
    "\n",
    "You can check the notebook by clicking [\\[here\\]](https://github.com/abhaysarkar25/Treasure-Island-Game)"
   ]
  },
  {
   "cell_type": "code",
   "execution_count": 7,
   "metadata": {},
   "outputs": [
    {
     "name": "stdout",
     "output_type": "stream",
     "text": [
      "Welcome to the Treasure Island, Your mission is to find the treasure\n",
      "You are at the crossroad, where do you want to go? Type left or right\n",
      "left\n",
      "You have come to a lake. There is an Island in the middle of the lake. Type wait to wait for the boat or Type swim to swim acrosswait\n",
      "You have arrived at the Island unharmed. There is a house with 3 doors. Red, Blue and Yellow. Which door will you choose?yellow\n",
      "Congratulations You have won the Treasure, Good Luck\n"
     ]
    }
   ],
   "source": [
    "print('''*******************************************************************************\n",
    "          |                   |                  |                     |\n",
    " _________|________________.=\"\"_;=.______________|_____________________|_______\n",
    "|                   |  ,-\"_,=\"\"     `\"=.|                  |\n",
    "|___________________|__\"=._o`\"-._        `\"=.______________|___________________\n",
    "          |                `\"=._o`\"=._      _`\"=._                     |\n",
    " _________|_____________________:=._o \"=._.\"_.-=\"'\"=.__________________|_______\n",
    "|                   |    __.--\" , ; `\"=._o.\" ,-\"\"\"-._ \".   |\n",
    "|___________________|_._\"  ,. .` ` `` ,  `\"-._\"-._   \". '__|___________________\n",
    "          |           |o`\"=._` , \"` `; .\". ,  \"-._\"-._; ;              |\n",
    " _________|___________| ;`-.o`\"=._; .\" ` '`.\"\\` . \"-._ /_______________|_______\n",
    "|                   | |o;    `\"-.o`\"=._``  '` \" ,__.--o;   |\n",
    "|___________________|_| ;     (#) `-.o `\"=.`_.--\"_o.-; ;___|___________________\n",
    "____/______/______/___|o;._    \"      `\".o|o_.--\"    ;o;____/______/______/____\n",
    "/______/______/______/_\"=._o--._        ; | ;        ; ;/______/______/______/_\n",
    "____/______/______/______/__\"=._o--._   ;o|o;     _._;o;____/______/______/____\n",
    "/______/______/______/______/____\"=._o._; | ;_.--\"o.--\"_/______/______/______/_\n",
    "____/______/______/______/______/_____\"=.o|o_.--\"\"___/______/______/______/____\n",
    "/______/______/______/______/______/______/______/______/______/______/[TomekK]\n",
    "*******************************************************************************''')\n",
    "\n",
    "print(\"Welcome to the Treasure Island, Your mission is to find the treasure\")\n",
    "\n",
    "direction = input(\"You are at the crossroad, where do you want to go? Type left or right\\n\").lower()\n",
    "\n",
    "if direction == \"left\":\n",
    "    stage1 = input(\"You have come to a lake. There is an Island in the middle of the lake. Type wait to wait for the boat or Type swim to swim across\").lower()\n",
    "    if stage1 == \"wait\":\n",
    "        stage2 = input(\"You have arrived at the Island unharmed. There is a house with 3 doors. Red, Blue and Yellow. Which door will you choose?\").lower()\n",
    "        if stage2 == \"red\":\n",
    "            print(\"Sorry, you have chosen a room with fire. Game Over!\")\n",
    "        elif stage2 == \"yellow\":\n",
    "            print(\"Congratulations You have won the Treasure, Good Luck\")\n",
    "        elif stage2 == \"blue\":\n",
    "            print(\"Sorry, you have chosen a room with Beast, Game Over!\")\n",
    "        else:\n",
    "            print(\"You have choice is not valid\")        \n",
    "    else:\n",
    "        print(\"You have been attached by a Croc, Game Over!\")\n",
    "else:\n",
    "    print(\"You fell into a hole, Game Over!\")"
   ]
  }
 ],
 "metadata": {
  "kernelspec": {
   "display_name": "Python 3",
   "language": "python",
   "name": "python3"
  },
  "language_info": {
   "codemirror_mode": {
    "name": "ipython",
    "version": 3
   },
   "file_extension": ".py",
   "mimetype": "text/x-python",
   "name": "python",
   "nbconvert_exporter": "python",
   "pygments_lexer": "ipython3",
   "version": "3.8.5"
  }
 },
 "nbformat": 4,
 "nbformat_minor": 4
}
